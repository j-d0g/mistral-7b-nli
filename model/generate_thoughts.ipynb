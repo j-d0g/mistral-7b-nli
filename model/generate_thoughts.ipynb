{
 "cells": [
  {
   "cell_type": "code",
   "source": [
    "# UNCOMMENT IF USING GOOGLE-DRIVE:\n",
    "# from google.colab import drive\n",
    "# drive.mount('/content/drive')\n",
    "# root = '/content/drive/My Drive/Colab Notebooks/COMP34812/'\n",
    "\n",
    "# UNCOMMENT IF RUN-POD OR LOCAL\n",
    "root = ''"
   ],
   "metadata": {
    "colab": {
     "base_uri": "https://localhost:8080/"
    },
    "id": "H470Sqca-who",
    "executionInfo": {
     "status": "ok",
     "timestamp": 1714338023932,
     "user_tz": -60,
     "elapsed": 30978,
     "user": {
      "displayName": "Jordan Tran",
      "userId": "05375146362003686014"
     }
    },
    "outputId": "3dcca3d0-9c8d-4537-c2fc-d89e906d2160",
    "ExecuteTime": {
     "end_time": "2024-04-29T01:46:03.835785Z",
     "start_time": "2024-04-29T01:46:03.829852Z"
    }
   },
   "execution_count": 1,
   "outputs": []
  },
  {
   "cell_type": "code",
   "execution_count": 2,
   "metadata": {
    "id": "vgpmGmSfomnM",
    "colab": {
     "base_uri": "https://localhost:8080/"
    },
    "executionInfo": {
     "status": "ok",
     "timestamp": 1714338034817,
     "user_tz": -60,
     "elapsed": 10907,
     "user": {
      "displayName": "Jordan Tran",
      "userId": "05375146362003686014"
     }
    },
    "outputId": "42f7ae0b-6496-4846-a8bd-98e29d058e21"
   },
   "outputs": [
    {
     "output_type": "stream",
     "name": "stdout",
     "text": [
      "/content/drive/MyDrive/Colab Notebooks/COMP34812\n",
      "Requirement already satisfied: pandas in /usr/local/lib/python3.10/dist-packages (2.0.3)\n",
      "Requirement already satisfied: python-dateutil>=2.8.2 in /usr/local/lib/python3.10/dist-packages (from pandas) (2.8.2)\n",
      "Requirement already satisfied: pytz>=2020.1 in /usr/local/lib/python3.10/dist-packages (from pandas) (2023.4)\n",
      "Requirement already satisfied: tzdata>=2022.1 in /usr/local/lib/python3.10/dist-packages (from pandas) (2024.1)\n",
      "Requirement already satisfied: numpy>=1.21.0 in /usr/local/lib/python3.10/dist-packages (from pandas) (1.25.2)\n",
      "Requirement already satisfied: six>=1.5 in /usr/local/lib/python3.10/dist-packages (from python-dateutil>=2.8.2->pandas) (1.16.0)\n",
      "Collecting python-dotenv\n",
      "  Downloading python_dotenv-1.0.1-py3-none-any.whl (19 kB)\n",
      "Installing collected packages: python-dotenv\n",
      "Successfully installed python-dotenv-1.0.1\n"
     ]
    }
   ],
   "source": [
    "%cd /content/drive/MyDrive/Colab Notebooks/COMP34812/\n",
    "!pip install pandas\n",
    "!pip install python-dotenv"
   ]
  },
  {
   "cell_type": "code",
   "execution_count": 2,
   "metadata": {
    "id": "5K9IOyFdpU47",
    "ExecuteTime": {
     "end_time": "2024-04-29T01:46:08.722744Z",
     "start_time": "2024-04-29T01:46:07.547246Z"
    }
   },
   "outputs": [],
   "source": [
    "import pandas as pd\n",
    "\n",
    "train = pd.read_csv(root + 'data/training_data/train.csv')\n",
    "dev = pd.read_csv(root + 'data/training_data/dev.csv')\n",
    "\n",
    "train['id'] = train.index; dev['id'] = dev.index\n",
    "\n",
    "# Define Prompt\n",
    "json_schema = {\n",
    "    \"thought_process\": \"<deductive/common-sense reasoning steps>\",\n",
    "    \"label\": \"<0 or 1>\"\n",
    "}\n",
    "\n",
    "system_prompt = \"\"\"You are an expert in natural language reasoning and inference. Your task is to analyze pairs of sentences and determine if the second sentence (hypothesis) can be logically inferred from the first sentence (premise). For each example, I will provide the premise and hypothesis. Your response should be in the following JSON format: {\"thought_process\": \"Step 1. <Identify key information and relationships in the premise, considering logical connections, commonsense understanding, and factual consistency>. Step 2. <Analyze how the hypothesis relates to or contradicts the premise based on the information identified in Step 1. Evaluate if the hypothesis can be reasonably inferred from the premise>. Step 3. <Explain your final reasoning and conclusion on whether the hypothesis is entailed by the premise or not>\", \"label\": \"<0 for no entailment, 1 for entailment>\"}\n",
    "Please provide a clear multi-step reasoning chain explaining how you arrived at your final answer, breaking it down into logical components. Ground your response in the given information, logical principles and common-sense reasoning.\n",
    "\n",
    "Example:\n",
    "\n",
    "Premise: The dog chased the cat up the tree. Hypothesis: The cat climbed the tree.\n",
    "Your response: {\"thought_process\": \"Step 1: the premise indicates a scenario where a dog chases a cat, resulting in the cat moving up a tree. The movement 'up the tree' suggests a vertical ascent, typical of climbing behavior. It is common sense that a cat would climb a tree to escape a chasing dog, and there are no known facts that contradict the premise or hypothesis. Step 2: 'The cat climbed the tree' can be logically inferred from the premise because the action of climbing is a reasonable and necessary part of the cat moving 'up the tree' as described. Thus, the hypothesis logically follows from the premise. Step 3: Based on the logical reasoning, common sense, and lack of contradictory facts, the hypothesis can be inferred from the premise.\", \"label\": 1}\n",
    "\"\"\""
   ]
  },
  {
   "cell_type": "code",
   "outputs": [],
   "source": [
    "import os\n",
    "from dotenv import load_dotenv\n",
    "\n",
    "from llm.mistral import Mistral\n",
    "from service.prediction_service import predict_label\n",
    "\n",
    "load_dotenv()\n",
    "API_KEY = os.getenv('MISTRAL_API_KEY')"
   ],
   "metadata": {
    "id": "D2WhxjdCLO56",
    "executionInfo": {
     "status": "ok",
     "timestamp": 1714338035212,
     "user_tz": -60,
     "elapsed": 410,
     "user": {
      "displayName": "Jordan Tran",
      "userId": "05375146362003686014"
     }
    },
    "ExecuteTime": {
     "end_time": "2024-04-29T01:46:10.074111Z",
     "start_time": "2024-04-29T01:46:09.996058Z"
    }
   },
   "execution_count": 3
  },
  {
   "cell_type": "code",
   "outputs": [
    {
     "ename": "KeyboardInterrupt",
     "evalue": "",
     "output_type": "error",
     "traceback": [
      "\u001B[0;31m---------------------------------------------------------------------------\u001B[0m",
      "\u001B[0;31mKeyboardInterrupt\u001B[0m                         Traceback (most recent call last)",
      "Cell \u001B[0;32mIn[14], line 4\u001B[0m\n\u001B[1;32m      1\u001B[0m start_index, end_index \u001B[38;5;241m=\u001B[39m \u001B[38;5;241m0\u001B[39m, train\u001B[38;5;241m.\u001B[39mshape[\u001B[38;5;241m0\u001B[39m]\n\u001B[1;32m      3\u001B[0m \u001B[38;5;66;03m# Generate predictions and thoughts for train set\u001B[39;00m\n\u001B[0;32m----> 4\u001B[0m train[\u001B[38;5;124m'\u001B[39m\u001B[38;5;124mresponse_json\u001B[39m\u001B[38;5;124m'\u001B[39m]\u001B[38;5;241m.\u001B[39miloc[start_index:end_index] \u001B[38;5;241m=\u001B[39m \u001B[43mtrain\u001B[49m\u001B[38;5;241;43m.\u001B[39;49m\u001B[43miloc\u001B[49m\u001B[43m[\u001B[49m\u001B[43mstart_index\u001B[49m\u001B[43m:\u001B[49m\u001B[43mend_index\u001B[49m\u001B[43m]\u001B[49m\u001B[38;5;241;43m.\u001B[39;49m\u001B[43mapply\u001B[49m\u001B[43m(\u001B[49m\u001B[38;5;28;43;01mlambda\u001B[39;49;00m\u001B[43m \u001B[49m\u001B[43mx\u001B[49m\u001B[43m:\u001B[49m\u001B[43m \u001B[49m\u001B[43mpredict_label\u001B[49m\u001B[43m(\u001B[49m\n\u001B[1;32m      5\u001B[0m \u001B[43m    \u001B[49m\u001B[38;5;28;43mid\u001B[39;49m\u001B[38;5;241;43m=\u001B[39;49m\u001B[43mx\u001B[49m\u001B[43m[\u001B[49m\u001B[38;5;124;43m'\u001B[39;49m\u001B[38;5;124;43mid\u001B[39;49m\u001B[38;5;124;43m'\u001B[39;49m\u001B[43m]\u001B[49m\u001B[43m,\u001B[49m\n\u001B[1;32m      6\u001B[0m \u001B[43m    \u001B[49m\u001B[43msys\u001B[49m\u001B[38;5;241;43m=\u001B[39;49m\u001B[43msystem_prompt\u001B[49m\u001B[43m,\u001B[49m\n\u001B[1;32m      7\u001B[0m \u001B[43m    \u001B[49m\u001B[43mpremise\u001B[49m\u001B[38;5;241;43m=\u001B[39;49m\u001B[43mx\u001B[49m\u001B[43m[\u001B[49m\u001B[38;5;124;43m'\u001B[39;49m\u001B[38;5;124;43mpremise\u001B[39;49m\u001B[38;5;124;43m'\u001B[39;49m\u001B[43m]\u001B[49m\u001B[43m,\u001B[49m\n\u001B[1;32m      8\u001B[0m \u001B[43m    \u001B[49m\u001B[43mhypothesis\u001B[49m\u001B[38;5;241;43m=\u001B[39;49m\u001B[43mx\u001B[49m\u001B[43m[\u001B[49m\u001B[38;5;124;43m'\u001B[39;49m\u001B[38;5;124;43mhypothesis\u001B[39;49m\u001B[38;5;124;43m'\u001B[39;49m\u001B[43m]\u001B[49m\u001B[43m,\u001B[49m\n\u001B[1;32m      9\u001B[0m \u001B[43m    \u001B[49m\u001B[43mtrue_label\u001B[49m\u001B[38;5;241;43m=\u001B[39;49m\u001B[43mx\u001B[49m\u001B[43m[\u001B[49m\u001B[38;5;124;43m'\u001B[39;49m\u001B[38;5;124;43mlabel\u001B[39;49m\u001B[38;5;124;43m'\u001B[39;49m\u001B[43m]\u001B[49m\u001B[43m,\u001B[49m\n\u001B[1;32m     10\u001B[0m \u001B[43m    \u001B[49m\u001B[43mllm\u001B[49m\u001B[38;5;241;43m=\u001B[39;49m\u001B[43mMistral\u001B[49m\u001B[43m(\u001B[49m\u001B[43mAPI_KEY\u001B[49m\u001B[43m)\u001B[49m\u001B[43m,\u001B[49m\n\u001B[1;32m     11\u001B[0m \u001B[43m    \u001B[49m\u001B[43mmodel_name\u001B[49m\u001B[38;5;241;43m=\u001B[39;49m\u001B[38;5;124;43m'\u001B[39;49m\u001B[38;5;124;43mopen-mistral-7b\u001B[39;49m\u001B[38;5;124;43m'\u001B[39;49m\u001B[43m,\u001B[49m\n\u001B[1;32m     12\u001B[0m \u001B[43m    \u001B[49m\u001B[43mjson_format\u001B[49m\u001B[38;5;241;43m=\u001B[39;49m\u001B[43mjson_schema\u001B[49m\u001B[43m,\u001B[49m\n\u001B[1;32m     13\u001B[0m \u001B[43m    \u001B[49m\u001B[43mjson_filepath\u001B[49m\u001B[38;5;241;43m=\u001B[39;49m\u001B[38;5;124;43mf\u001B[39;49m\u001B[38;5;124;43m'\u001B[39;49m\u001B[38;5;132;43;01m{\u001B[39;49;00m\u001B[43mroot\u001B[49m\u001B[38;5;132;43;01m}\u001B[39;49;00m\u001B[38;5;124;43mdata/json_data/thoughts_\u001B[39;49m\u001B[38;5;132;43;01m{\u001B[39;49;00m\u001B[43mstart_index\u001B[49m\u001B[38;5;132;43;01m}\u001B[39;49;00m\u001B[38;5;124;43m_\u001B[39;49m\u001B[38;5;132;43;01m{\u001B[39;49;00m\u001B[43mend_index\u001B[49m\u001B[38;5;132;43;01m}\u001B[39;49;00m\u001B[38;5;124;43m.json\u001B[39;49m\u001B[38;5;124;43m'\u001B[39;49m\n\u001B[1;32m     14\u001B[0m \u001B[43m)\u001B[49m\u001B[43m,\u001B[49m\u001B[43m \u001B[49m\u001B[43maxis\u001B[49m\u001B[38;5;241;43m=\u001B[39;49m\u001B[38;5;241;43m1\u001B[39;49m\u001B[43m)\u001B[49m\n",
      "File \u001B[0;32m~/Code/PycharmProjects/NLU/nli/.venv/lib/python3.9/site-packages/pandas/core/frame.py:10374\u001B[0m, in \u001B[0;36mDataFrame.apply\u001B[0;34m(self, func, axis, raw, result_type, args, by_row, engine, engine_kwargs, **kwargs)\u001B[0m\n\u001B[1;32m  10360\u001B[0m \u001B[38;5;28;01mfrom\u001B[39;00m \u001B[38;5;21;01mpandas\u001B[39;00m\u001B[38;5;21;01m.\u001B[39;00m\u001B[38;5;21;01mcore\u001B[39;00m\u001B[38;5;21;01m.\u001B[39;00m\u001B[38;5;21;01mapply\u001B[39;00m \u001B[38;5;28;01mimport\u001B[39;00m frame_apply\n\u001B[1;32m  10362\u001B[0m op \u001B[38;5;241m=\u001B[39m frame_apply(\n\u001B[1;32m  10363\u001B[0m     \u001B[38;5;28mself\u001B[39m,\n\u001B[1;32m  10364\u001B[0m     func\u001B[38;5;241m=\u001B[39mfunc,\n\u001B[0;32m   (...)\u001B[0m\n\u001B[1;32m  10372\u001B[0m     kwargs\u001B[38;5;241m=\u001B[39mkwargs,\n\u001B[1;32m  10373\u001B[0m )\n\u001B[0;32m> 10374\u001B[0m \u001B[38;5;28;01mreturn\u001B[39;00m \u001B[43mop\u001B[49m\u001B[38;5;241;43m.\u001B[39;49m\u001B[43mapply\u001B[49m\u001B[43m(\u001B[49m\u001B[43m)\u001B[49m\u001B[38;5;241m.\u001B[39m__finalize__(\u001B[38;5;28mself\u001B[39m, method\u001B[38;5;241m=\u001B[39m\u001B[38;5;124m\"\u001B[39m\u001B[38;5;124mapply\u001B[39m\u001B[38;5;124m\"\u001B[39m)\n",
      "File \u001B[0;32m~/Code/PycharmProjects/NLU/nli/.venv/lib/python3.9/site-packages/pandas/core/apply.py:916\u001B[0m, in \u001B[0;36mFrameApply.apply\u001B[0;34m(self)\u001B[0m\n\u001B[1;32m    913\u001B[0m \u001B[38;5;28;01melif\u001B[39;00m \u001B[38;5;28mself\u001B[39m\u001B[38;5;241m.\u001B[39mraw:\n\u001B[1;32m    914\u001B[0m     \u001B[38;5;28;01mreturn\u001B[39;00m \u001B[38;5;28mself\u001B[39m\u001B[38;5;241m.\u001B[39mapply_raw(engine\u001B[38;5;241m=\u001B[39m\u001B[38;5;28mself\u001B[39m\u001B[38;5;241m.\u001B[39mengine, engine_kwargs\u001B[38;5;241m=\u001B[39m\u001B[38;5;28mself\u001B[39m\u001B[38;5;241m.\u001B[39mengine_kwargs)\n\u001B[0;32m--> 916\u001B[0m \u001B[38;5;28;01mreturn\u001B[39;00m \u001B[38;5;28;43mself\u001B[39;49m\u001B[38;5;241;43m.\u001B[39;49m\u001B[43mapply_standard\u001B[49m\u001B[43m(\u001B[49m\u001B[43m)\u001B[49m\n",
      "File \u001B[0;32m~/Code/PycharmProjects/NLU/nli/.venv/lib/python3.9/site-packages/pandas/core/apply.py:1063\u001B[0m, in \u001B[0;36mFrameApply.apply_standard\u001B[0;34m(self)\u001B[0m\n\u001B[1;32m   1061\u001B[0m \u001B[38;5;28;01mdef\u001B[39;00m \u001B[38;5;21mapply_standard\u001B[39m(\u001B[38;5;28mself\u001B[39m):\n\u001B[1;32m   1062\u001B[0m     \u001B[38;5;28;01mif\u001B[39;00m \u001B[38;5;28mself\u001B[39m\u001B[38;5;241m.\u001B[39mengine \u001B[38;5;241m==\u001B[39m \u001B[38;5;124m\"\u001B[39m\u001B[38;5;124mpython\u001B[39m\u001B[38;5;124m\"\u001B[39m:\n\u001B[0;32m-> 1063\u001B[0m         results, res_index \u001B[38;5;241m=\u001B[39m \u001B[38;5;28;43mself\u001B[39;49m\u001B[38;5;241;43m.\u001B[39;49m\u001B[43mapply_series_generator\u001B[49m\u001B[43m(\u001B[49m\u001B[43m)\u001B[49m\n\u001B[1;32m   1064\u001B[0m     \u001B[38;5;28;01melse\u001B[39;00m:\n\u001B[1;32m   1065\u001B[0m         results, res_index \u001B[38;5;241m=\u001B[39m \u001B[38;5;28mself\u001B[39m\u001B[38;5;241m.\u001B[39mapply_series_numba()\n",
      "File \u001B[0;32m~/Code/PycharmProjects/NLU/nli/.venv/lib/python3.9/site-packages/pandas/core/apply.py:1081\u001B[0m, in \u001B[0;36mFrameApply.apply_series_generator\u001B[0;34m(self)\u001B[0m\n\u001B[1;32m   1078\u001B[0m \u001B[38;5;28;01mwith\u001B[39;00m option_context(\u001B[38;5;124m\"\u001B[39m\u001B[38;5;124mmode.chained_assignment\u001B[39m\u001B[38;5;124m\"\u001B[39m, \u001B[38;5;28;01mNone\u001B[39;00m):\n\u001B[1;32m   1079\u001B[0m     \u001B[38;5;28;01mfor\u001B[39;00m i, v \u001B[38;5;129;01min\u001B[39;00m \u001B[38;5;28menumerate\u001B[39m(series_gen):\n\u001B[1;32m   1080\u001B[0m         \u001B[38;5;66;03m# ignore SettingWithCopy here in case the user mutates\u001B[39;00m\n\u001B[0;32m-> 1081\u001B[0m         results[i] \u001B[38;5;241m=\u001B[39m \u001B[38;5;28;43mself\u001B[39;49m\u001B[38;5;241;43m.\u001B[39;49m\u001B[43mfunc\u001B[49m\u001B[43m(\u001B[49m\u001B[43mv\u001B[49m\u001B[43m,\u001B[49m\u001B[43m \u001B[49m\u001B[38;5;241;43m*\u001B[39;49m\u001B[38;5;28;43mself\u001B[39;49m\u001B[38;5;241;43m.\u001B[39;49m\u001B[43margs\u001B[49m\u001B[43m,\u001B[49m\u001B[43m \u001B[49m\u001B[38;5;241;43m*\u001B[39;49m\u001B[38;5;241;43m*\u001B[39;49m\u001B[38;5;28;43mself\u001B[39;49m\u001B[38;5;241;43m.\u001B[39;49m\u001B[43mkwargs\u001B[49m\u001B[43m)\u001B[49m\n\u001B[1;32m   1082\u001B[0m         \u001B[38;5;28;01mif\u001B[39;00m \u001B[38;5;28misinstance\u001B[39m(results[i], ABCSeries):\n\u001B[1;32m   1083\u001B[0m             \u001B[38;5;66;03m# If we have a view on v, we need to make a copy because\u001B[39;00m\n\u001B[1;32m   1084\u001B[0m             \u001B[38;5;66;03m#  series_generator will swap out the underlying data\u001B[39;00m\n\u001B[1;32m   1085\u001B[0m             results[i] \u001B[38;5;241m=\u001B[39m results[i]\u001B[38;5;241m.\u001B[39mcopy(deep\u001B[38;5;241m=\u001B[39m\u001B[38;5;28;01mFalse\u001B[39;00m)\n",
      "Cell \u001B[0;32mIn[14], line 4\u001B[0m, in \u001B[0;36m<lambda>\u001B[0;34m(x)\u001B[0m\n\u001B[1;32m      1\u001B[0m start_index, end_index \u001B[38;5;241m=\u001B[39m \u001B[38;5;241m0\u001B[39m, train\u001B[38;5;241m.\u001B[39mshape[\u001B[38;5;241m0\u001B[39m]\n\u001B[1;32m      3\u001B[0m \u001B[38;5;66;03m# Generate predictions and thoughts for train set\u001B[39;00m\n\u001B[0;32m----> 4\u001B[0m train[\u001B[38;5;124m'\u001B[39m\u001B[38;5;124mresponse_json\u001B[39m\u001B[38;5;124m'\u001B[39m]\u001B[38;5;241m.\u001B[39miloc[start_index:end_index] \u001B[38;5;241m=\u001B[39m train\u001B[38;5;241m.\u001B[39miloc[start_index:end_index]\u001B[38;5;241m.\u001B[39mapply(\u001B[38;5;28;01mlambda\u001B[39;00m x: \u001B[43mpredict_label\u001B[49m\u001B[43m(\u001B[49m\n\u001B[1;32m      5\u001B[0m \u001B[43m    \u001B[49m\u001B[38;5;28;43mid\u001B[39;49m\u001B[38;5;241;43m=\u001B[39;49m\u001B[43mx\u001B[49m\u001B[43m[\u001B[49m\u001B[38;5;124;43m'\u001B[39;49m\u001B[38;5;124;43mid\u001B[39;49m\u001B[38;5;124;43m'\u001B[39;49m\u001B[43m]\u001B[49m\u001B[43m,\u001B[49m\n\u001B[1;32m      6\u001B[0m \u001B[43m    \u001B[49m\u001B[43msys\u001B[49m\u001B[38;5;241;43m=\u001B[39;49m\u001B[43msystem_prompt\u001B[49m\u001B[43m,\u001B[49m\n\u001B[1;32m      7\u001B[0m \u001B[43m    \u001B[49m\u001B[43mpremise\u001B[49m\u001B[38;5;241;43m=\u001B[39;49m\u001B[43mx\u001B[49m\u001B[43m[\u001B[49m\u001B[38;5;124;43m'\u001B[39;49m\u001B[38;5;124;43mpremise\u001B[39;49m\u001B[38;5;124;43m'\u001B[39;49m\u001B[43m]\u001B[49m\u001B[43m,\u001B[49m\n\u001B[1;32m      8\u001B[0m \u001B[43m    \u001B[49m\u001B[43mhypothesis\u001B[49m\u001B[38;5;241;43m=\u001B[39;49m\u001B[43mx\u001B[49m\u001B[43m[\u001B[49m\u001B[38;5;124;43m'\u001B[39;49m\u001B[38;5;124;43mhypothesis\u001B[39;49m\u001B[38;5;124;43m'\u001B[39;49m\u001B[43m]\u001B[49m\u001B[43m,\u001B[49m\n\u001B[1;32m      9\u001B[0m \u001B[43m    \u001B[49m\u001B[43mtrue_label\u001B[49m\u001B[38;5;241;43m=\u001B[39;49m\u001B[43mx\u001B[49m\u001B[43m[\u001B[49m\u001B[38;5;124;43m'\u001B[39;49m\u001B[38;5;124;43mlabel\u001B[39;49m\u001B[38;5;124;43m'\u001B[39;49m\u001B[43m]\u001B[49m\u001B[43m,\u001B[49m\n\u001B[1;32m     10\u001B[0m \u001B[43m    \u001B[49m\u001B[43mllm\u001B[49m\u001B[38;5;241;43m=\u001B[39;49m\u001B[43mMistral\u001B[49m\u001B[43m(\u001B[49m\u001B[43mAPI_KEY\u001B[49m\u001B[43m)\u001B[49m\u001B[43m,\u001B[49m\n\u001B[1;32m     11\u001B[0m \u001B[43m    \u001B[49m\u001B[43mmodel_name\u001B[49m\u001B[38;5;241;43m=\u001B[39;49m\u001B[38;5;124;43m'\u001B[39;49m\u001B[38;5;124;43mopen-mistral-7b\u001B[39;49m\u001B[38;5;124;43m'\u001B[39;49m\u001B[43m,\u001B[49m\n\u001B[1;32m     12\u001B[0m \u001B[43m    \u001B[49m\u001B[43mjson_format\u001B[49m\u001B[38;5;241;43m=\u001B[39;49m\u001B[43mjson_schema\u001B[49m\u001B[43m,\u001B[49m\n\u001B[1;32m     13\u001B[0m \u001B[43m    \u001B[49m\u001B[43mjson_filepath\u001B[49m\u001B[38;5;241;43m=\u001B[39;49m\u001B[38;5;124;43mf\u001B[39;49m\u001B[38;5;124;43m'\u001B[39;49m\u001B[38;5;132;43;01m{\u001B[39;49;00m\u001B[43mroot\u001B[49m\u001B[38;5;132;43;01m}\u001B[39;49;00m\u001B[38;5;124;43mdata/json_data/thoughts_\u001B[39;49m\u001B[38;5;132;43;01m{\u001B[39;49;00m\u001B[43mstart_index\u001B[49m\u001B[38;5;132;43;01m}\u001B[39;49;00m\u001B[38;5;124;43m_\u001B[39;49m\u001B[38;5;132;43;01m{\u001B[39;49;00m\u001B[43mend_index\u001B[49m\u001B[38;5;132;43;01m}\u001B[39;49;00m\u001B[38;5;124;43m.json\u001B[39;49m\u001B[38;5;124;43m'\u001B[39;49m\n\u001B[1;32m     14\u001B[0m \u001B[43m)\u001B[49m, axis\u001B[38;5;241m=\u001B[39m\u001B[38;5;241m1\u001B[39m)\n",
      "File \u001B[0;32m~/Code/PycharmProjects/NLU/nli/service/prediction_service.py:81\u001B[0m, in \u001B[0;36mpredict_label\u001B[0;34m(id, sys, premise, hypothesis, true_label, llm, model_name, json_format, json_filepath, user, max_retries)\u001B[0m\n\u001B[1;32m     78\u001B[0m     llm\u001B[38;5;241m.\u001B[39madd_messages([sys, user])\n\u001B[1;32m     80\u001B[0m \u001B[38;5;66;03m# Generate move, thoughts JSON using LLM\u001B[39;00m\n\u001B[0;32m---> 81\u001B[0m output: \u001B[38;5;28mstr\u001B[39m \u001B[38;5;241m=\u001B[39m \u001B[43mllm\u001B[49m\u001B[38;5;241;43m.\u001B[39;49m\u001B[43mgenerate_text\u001B[49m\u001B[43m(\u001B[49m\u001B[43mmodel_name\u001B[49m\u001B[38;5;241;43m=\u001B[39;49m\u001B[43mmodel_name\u001B[49m\u001B[43m)\u001B[49m\n\u001B[1;32m     82\u001B[0m response_json, error_message \u001B[38;5;241m=\u001B[39m validate_response(output, json_format)\n\u001B[1;32m     84\u001B[0m \u001B[38;5;66;03m# print('****** OUTPUT ******\\n ')\u001B[39;00m\n\u001B[1;32m     85\u001B[0m \u001B[38;5;66;03m# pprint(output)\u001B[39;00m\n\u001B[1;32m     86\u001B[0m \n\u001B[1;32m     87\u001B[0m \u001B[38;5;66;03m# If response is valid, extract and generate benchmark metrics and return response\u001B[39;00m\n",
      "File \u001B[0;32m~/Code/PycharmProjects/NLU/nli/llm/mistral.py:34\u001B[0m, in \u001B[0;36mMistral.generate_text\u001B[0;34m(self, model_name, max_tokens, temperature, top_p)\u001B[0m\n\u001B[1;32m     22\u001B[0m \u001B[38;5;28;01mdef\u001B[39;00m \u001B[38;5;21mgenerate_text\u001B[39m(\u001B[38;5;28mself\u001B[39m, model_name\u001B[38;5;241m=\u001B[39m\u001B[38;5;124m\"\u001B[39m\u001B[38;5;124mopen-mistral-7b\u001B[39m\u001B[38;5;124m\"\u001B[39m, max_tokens\u001B[38;5;241m=\u001B[39m\u001B[38;5;241m1024\u001B[39m, temperature\u001B[38;5;241m=\u001B[39m\u001B[38;5;241m0.7\u001B[39m, top_p\u001B[38;5;241m=\u001B[39m\u001B[38;5;241m1.0\u001B[39m) \u001B[38;5;241m-\u001B[39m\u001B[38;5;241m>\u001B[39m \u001B[38;5;28mstr\u001B[39m:\n\u001B[1;32m     23\u001B[0m     data \u001B[38;5;241m=\u001B[39m {\n\u001B[1;32m     24\u001B[0m         \u001B[38;5;124m\"\u001B[39m\u001B[38;5;124mmodel\u001B[39m\u001B[38;5;124m\"\u001B[39m: model_name,\n\u001B[1;32m     25\u001B[0m         \u001B[38;5;124m\"\u001B[39m\u001B[38;5;124mmessages\u001B[39m\u001B[38;5;124m\"\u001B[39m: \u001B[38;5;28mself\u001B[39m\u001B[38;5;241m.\u001B[39mget_messages(),\n\u001B[0;32m   (...)\u001B[0m\n\u001B[1;32m     32\u001B[0m         \u001B[38;5;124m\"\u001B[39m\u001B[38;5;124mresponse_format\u001B[39m\u001B[38;5;124m\"\u001B[39m: {\u001B[38;5;124m\"\u001B[39m\u001B[38;5;124mtype\u001B[39m\u001B[38;5;124m\"\u001B[39m: \u001B[38;5;124m\"\u001B[39m\u001B[38;5;124mjson_object\u001B[39m\u001B[38;5;124m\"\u001B[39m}\n\u001B[1;32m     33\u001B[0m     }\n\u001B[0;32m---> 34\u001B[0m     response \u001B[38;5;241m=\u001B[39m \u001B[43mrequests\u001B[49m\u001B[38;5;241;43m.\u001B[39;49m\u001B[43mpost\u001B[49m\u001B[43m(\u001B[49m\u001B[38;5;28;43mself\u001B[39;49m\u001B[38;5;241;43m.\u001B[39;49m\u001B[43mapi_url\u001B[49m\u001B[43m \u001B[49m\u001B[38;5;241;43m+\u001B[39;49m\u001B[43m \u001B[49m\u001B[38;5;124;43m\"\u001B[39;49m\u001B[38;5;124;43mchat/completions\u001B[39;49m\u001B[38;5;124;43m\"\u001B[39;49m\u001B[43m,\u001B[49m\u001B[43m \u001B[49m\u001B[43mheaders\u001B[49m\u001B[38;5;241;43m=\u001B[39;49m\u001B[38;5;28;43mself\u001B[39;49m\u001B[38;5;241;43m.\u001B[39;49m\u001B[43mheaders\u001B[49m\u001B[43m,\u001B[49m\u001B[43m \u001B[49m\u001B[43mjson\u001B[49m\u001B[38;5;241;43m=\u001B[39;49m\u001B[43mdata\u001B[49m\u001B[43m)\u001B[49m\n\u001B[1;32m     36\u001B[0m     \u001B[38;5;28;01mif\u001B[39;00m response\u001B[38;5;241m.\u001B[39mstatus_code \u001B[38;5;241m==\u001B[39m \u001B[38;5;241m200\u001B[39m:\n\u001B[1;32m     37\u001B[0m         result \u001B[38;5;241m=\u001B[39m response\u001B[38;5;241m.\u001B[39mjson()\n",
      "File \u001B[0;32m~/Code/PycharmProjects/NLU/nli/.venv/lib/python3.9/site-packages/requests/api.py:115\u001B[0m, in \u001B[0;36mpost\u001B[0;34m(url, data, json, **kwargs)\u001B[0m\n\u001B[1;32m    103\u001B[0m \u001B[38;5;28;01mdef\u001B[39;00m \u001B[38;5;21mpost\u001B[39m(url, data\u001B[38;5;241m=\u001B[39m\u001B[38;5;28;01mNone\u001B[39;00m, json\u001B[38;5;241m=\u001B[39m\u001B[38;5;28;01mNone\u001B[39;00m, \u001B[38;5;241m*\u001B[39m\u001B[38;5;241m*\u001B[39mkwargs):\n\u001B[1;32m    104\u001B[0m \u001B[38;5;250m    \u001B[39m\u001B[38;5;124mr\u001B[39m\u001B[38;5;124;03m\"\"\"Sends a POST request.\u001B[39;00m\n\u001B[1;32m    105\u001B[0m \n\u001B[1;32m    106\u001B[0m \u001B[38;5;124;03m    :param url: URL for the new :class:`Request` object.\u001B[39;00m\n\u001B[0;32m   (...)\u001B[0m\n\u001B[1;32m    112\u001B[0m \u001B[38;5;124;03m    :rtype: requests.Response\u001B[39;00m\n\u001B[1;32m    113\u001B[0m \u001B[38;5;124;03m    \"\"\"\u001B[39;00m\n\u001B[0;32m--> 115\u001B[0m     \u001B[38;5;28;01mreturn\u001B[39;00m \u001B[43mrequest\u001B[49m\u001B[43m(\u001B[49m\u001B[38;5;124;43m\"\u001B[39;49m\u001B[38;5;124;43mpost\u001B[39;49m\u001B[38;5;124;43m\"\u001B[39;49m\u001B[43m,\u001B[49m\u001B[43m \u001B[49m\u001B[43murl\u001B[49m\u001B[43m,\u001B[49m\u001B[43m \u001B[49m\u001B[43mdata\u001B[49m\u001B[38;5;241;43m=\u001B[39;49m\u001B[43mdata\u001B[49m\u001B[43m,\u001B[49m\u001B[43m \u001B[49m\u001B[43mjson\u001B[49m\u001B[38;5;241;43m=\u001B[39;49m\u001B[43mjson\u001B[49m\u001B[43m,\u001B[49m\u001B[43m \u001B[49m\u001B[38;5;241;43m*\u001B[39;49m\u001B[38;5;241;43m*\u001B[39;49m\u001B[43mkwargs\u001B[49m\u001B[43m)\u001B[49m\n",
      "File \u001B[0;32m~/Code/PycharmProjects/NLU/nli/.venv/lib/python3.9/site-packages/requests/api.py:59\u001B[0m, in \u001B[0;36mrequest\u001B[0;34m(method, url, **kwargs)\u001B[0m\n\u001B[1;32m     55\u001B[0m \u001B[38;5;66;03m# By using the 'with' statement we are sure the session is closed, thus we\u001B[39;00m\n\u001B[1;32m     56\u001B[0m \u001B[38;5;66;03m# avoid leaving sockets open which can trigger a ResourceWarning in some\u001B[39;00m\n\u001B[1;32m     57\u001B[0m \u001B[38;5;66;03m# cases, and look like a memory leak in others.\u001B[39;00m\n\u001B[1;32m     58\u001B[0m \u001B[38;5;28;01mwith\u001B[39;00m sessions\u001B[38;5;241m.\u001B[39mSession() \u001B[38;5;28;01mas\u001B[39;00m session:\n\u001B[0;32m---> 59\u001B[0m     \u001B[38;5;28;01mreturn\u001B[39;00m \u001B[43msession\u001B[49m\u001B[38;5;241;43m.\u001B[39;49m\u001B[43mrequest\u001B[49m\u001B[43m(\u001B[49m\u001B[43mmethod\u001B[49m\u001B[38;5;241;43m=\u001B[39;49m\u001B[43mmethod\u001B[49m\u001B[43m,\u001B[49m\u001B[43m \u001B[49m\u001B[43murl\u001B[49m\u001B[38;5;241;43m=\u001B[39;49m\u001B[43murl\u001B[49m\u001B[43m,\u001B[49m\u001B[43m \u001B[49m\u001B[38;5;241;43m*\u001B[39;49m\u001B[38;5;241;43m*\u001B[39;49m\u001B[43mkwargs\u001B[49m\u001B[43m)\u001B[49m\n",
      "File \u001B[0;32m~/Code/PycharmProjects/NLU/nli/.venv/lib/python3.9/site-packages/requests/sessions.py:589\u001B[0m, in \u001B[0;36mSession.request\u001B[0;34m(self, method, url, params, data, headers, cookies, files, auth, timeout, allow_redirects, proxies, hooks, stream, verify, cert, json)\u001B[0m\n\u001B[1;32m    584\u001B[0m send_kwargs \u001B[38;5;241m=\u001B[39m {\n\u001B[1;32m    585\u001B[0m     \u001B[38;5;124m\"\u001B[39m\u001B[38;5;124mtimeout\u001B[39m\u001B[38;5;124m\"\u001B[39m: timeout,\n\u001B[1;32m    586\u001B[0m     \u001B[38;5;124m\"\u001B[39m\u001B[38;5;124mallow_redirects\u001B[39m\u001B[38;5;124m\"\u001B[39m: allow_redirects,\n\u001B[1;32m    587\u001B[0m }\n\u001B[1;32m    588\u001B[0m send_kwargs\u001B[38;5;241m.\u001B[39mupdate(settings)\n\u001B[0;32m--> 589\u001B[0m resp \u001B[38;5;241m=\u001B[39m \u001B[38;5;28;43mself\u001B[39;49m\u001B[38;5;241;43m.\u001B[39;49m\u001B[43msend\u001B[49m\u001B[43m(\u001B[49m\u001B[43mprep\u001B[49m\u001B[43m,\u001B[49m\u001B[43m \u001B[49m\u001B[38;5;241;43m*\u001B[39;49m\u001B[38;5;241;43m*\u001B[39;49m\u001B[43msend_kwargs\u001B[49m\u001B[43m)\u001B[49m\n\u001B[1;32m    591\u001B[0m \u001B[38;5;28;01mreturn\u001B[39;00m resp\n",
      "File \u001B[0;32m~/Code/PycharmProjects/NLU/nli/.venv/lib/python3.9/site-packages/requests/sessions.py:703\u001B[0m, in \u001B[0;36mSession.send\u001B[0;34m(self, request, **kwargs)\u001B[0m\n\u001B[1;32m    700\u001B[0m start \u001B[38;5;241m=\u001B[39m preferred_clock()\n\u001B[1;32m    702\u001B[0m \u001B[38;5;66;03m# Send the request\u001B[39;00m\n\u001B[0;32m--> 703\u001B[0m r \u001B[38;5;241m=\u001B[39m \u001B[43madapter\u001B[49m\u001B[38;5;241;43m.\u001B[39;49m\u001B[43msend\u001B[49m\u001B[43m(\u001B[49m\u001B[43mrequest\u001B[49m\u001B[43m,\u001B[49m\u001B[43m \u001B[49m\u001B[38;5;241;43m*\u001B[39;49m\u001B[38;5;241;43m*\u001B[39;49m\u001B[43mkwargs\u001B[49m\u001B[43m)\u001B[49m\n\u001B[1;32m    705\u001B[0m \u001B[38;5;66;03m# Total elapsed time of the request (approximately)\u001B[39;00m\n\u001B[1;32m    706\u001B[0m elapsed \u001B[38;5;241m=\u001B[39m preferred_clock() \u001B[38;5;241m-\u001B[39m start\n",
      "File \u001B[0;32m~/Code/PycharmProjects/NLU/nli/.venv/lib/python3.9/site-packages/requests/adapters.py:486\u001B[0m, in \u001B[0;36mHTTPAdapter.send\u001B[0;34m(self, request, stream, timeout, verify, cert, proxies)\u001B[0m\n\u001B[1;32m    483\u001B[0m     timeout \u001B[38;5;241m=\u001B[39m TimeoutSauce(connect\u001B[38;5;241m=\u001B[39mtimeout, read\u001B[38;5;241m=\u001B[39mtimeout)\n\u001B[1;32m    485\u001B[0m \u001B[38;5;28;01mtry\u001B[39;00m:\n\u001B[0;32m--> 486\u001B[0m     resp \u001B[38;5;241m=\u001B[39m \u001B[43mconn\u001B[49m\u001B[38;5;241;43m.\u001B[39;49m\u001B[43murlopen\u001B[49m\u001B[43m(\u001B[49m\n\u001B[1;32m    487\u001B[0m \u001B[43m        \u001B[49m\u001B[43mmethod\u001B[49m\u001B[38;5;241;43m=\u001B[39;49m\u001B[43mrequest\u001B[49m\u001B[38;5;241;43m.\u001B[39;49m\u001B[43mmethod\u001B[49m\u001B[43m,\u001B[49m\n\u001B[1;32m    488\u001B[0m \u001B[43m        \u001B[49m\u001B[43murl\u001B[49m\u001B[38;5;241;43m=\u001B[39;49m\u001B[43murl\u001B[49m\u001B[43m,\u001B[49m\n\u001B[1;32m    489\u001B[0m \u001B[43m        \u001B[49m\u001B[43mbody\u001B[49m\u001B[38;5;241;43m=\u001B[39;49m\u001B[43mrequest\u001B[49m\u001B[38;5;241;43m.\u001B[39;49m\u001B[43mbody\u001B[49m\u001B[43m,\u001B[49m\n\u001B[1;32m    490\u001B[0m \u001B[43m        \u001B[49m\u001B[43mheaders\u001B[49m\u001B[38;5;241;43m=\u001B[39;49m\u001B[43mrequest\u001B[49m\u001B[38;5;241;43m.\u001B[39;49m\u001B[43mheaders\u001B[49m\u001B[43m,\u001B[49m\n\u001B[1;32m    491\u001B[0m \u001B[43m        \u001B[49m\u001B[43mredirect\u001B[49m\u001B[38;5;241;43m=\u001B[39;49m\u001B[38;5;28;43;01mFalse\u001B[39;49;00m\u001B[43m,\u001B[49m\n\u001B[1;32m    492\u001B[0m \u001B[43m        \u001B[49m\u001B[43massert_same_host\u001B[49m\u001B[38;5;241;43m=\u001B[39;49m\u001B[38;5;28;43;01mFalse\u001B[39;49;00m\u001B[43m,\u001B[49m\n\u001B[1;32m    493\u001B[0m \u001B[43m        \u001B[49m\u001B[43mpreload_content\u001B[49m\u001B[38;5;241;43m=\u001B[39;49m\u001B[38;5;28;43;01mFalse\u001B[39;49;00m\u001B[43m,\u001B[49m\n\u001B[1;32m    494\u001B[0m \u001B[43m        \u001B[49m\u001B[43mdecode_content\u001B[49m\u001B[38;5;241;43m=\u001B[39;49m\u001B[38;5;28;43;01mFalse\u001B[39;49;00m\u001B[43m,\u001B[49m\n\u001B[1;32m    495\u001B[0m \u001B[43m        \u001B[49m\u001B[43mretries\u001B[49m\u001B[38;5;241;43m=\u001B[39;49m\u001B[38;5;28;43mself\u001B[39;49m\u001B[38;5;241;43m.\u001B[39;49m\u001B[43mmax_retries\u001B[49m\u001B[43m,\u001B[49m\n\u001B[1;32m    496\u001B[0m \u001B[43m        \u001B[49m\u001B[43mtimeout\u001B[49m\u001B[38;5;241;43m=\u001B[39;49m\u001B[43mtimeout\u001B[49m\u001B[43m,\u001B[49m\n\u001B[1;32m    497\u001B[0m \u001B[43m        \u001B[49m\u001B[43mchunked\u001B[49m\u001B[38;5;241;43m=\u001B[39;49m\u001B[43mchunked\u001B[49m\u001B[43m,\u001B[49m\n\u001B[1;32m    498\u001B[0m \u001B[43m    \u001B[49m\u001B[43m)\u001B[49m\n\u001B[1;32m    500\u001B[0m \u001B[38;5;28;01mexcept\u001B[39;00m (ProtocolError, \u001B[38;5;167;01mOSError\u001B[39;00m) \u001B[38;5;28;01mas\u001B[39;00m err:\n\u001B[1;32m    501\u001B[0m     \u001B[38;5;28;01mraise\u001B[39;00m \u001B[38;5;167;01mConnectionError\u001B[39;00m(err, request\u001B[38;5;241m=\u001B[39mrequest)\n",
      "File \u001B[0;32m~/Code/PycharmProjects/NLU/nli/.venv/lib/python3.9/site-packages/urllib3/connectionpool.py:793\u001B[0m, in \u001B[0;36mHTTPConnectionPool.urlopen\u001B[0;34m(self, method, url, body, headers, retries, redirect, assert_same_host, timeout, pool_timeout, release_conn, chunked, body_pos, preload_content, decode_content, **response_kw)\u001B[0m\n\u001B[1;32m    790\u001B[0m response_conn \u001B[38;5;241m=\u001B[39m conn \u001B[38;5;28;01mif\u001B[39;00m \u001B[38;5;129;01mnot\u001B[39;00m release_conn \u001B[38;5;28;01melse\u001B[39;00m \u001B[38;5;28;01mNone\u001B[39;00m\n\u001B[1;32m    792\u001B[0m \u001B[38;5;66;03m# Make the request on the HTTPConnection object\u001B[39;00m\n\u001B[0;32m--> 793\u001B[0m response \u001B[38;5;241m=\u001B[39m \u001B[38;5;28;43mself\u001B[39;49m\u001B[38;5;241;43m.\u001B[39;49m\u001B[43m_make_request\u001B[49m\u001B[43m(\u001B[49m\n\u001B[1;32m    794\u001B[0m \u001B[43m    \u001B[49m\u001B[43mconn\u001B[49m\u001B[43m,\u001B[49m\n\u001B[1;32m    795\u001B[0m \u001B[43m    \u001B[49m\u001B[43mmethod\u001B[49m\u001B[43m,\u001B[49m\n\u001B[1;32m    796\u001B[0m \u001B[43m    \u001B[49m\u001B[43murl\u001B[49m\u001B[43m,\u001B[49m\n\u001B[1;32m    797\u001B[0m \u001B[43m    \u001B[49m\u001B[43mtimeout\u001B[49m\u001B[38;5;241;43m=\u001B[39;49m\u001B[43mtimeout_obj\u001B[49m\u001B[43m,\u001B[49m\n\u001B[1;32m    798\u001B[0m \u001B[43m    \u001B[49m\u001B[43mbody\u001B[49m\u001B[38;5;241;43m=\u001B[39;49m\u001B[43mbody\u001B[49m\u001B[43m,\u001B[49m\n\u001B[1;32m    799\u001B[0m \u001B[43m    \u001B[49m\u001B[43mheaders\u001B[49m\u001B[38;5;241;43m=\u001B[39;49m\u001B[43mheaders\u001B[49m\u001B[43m,\u001B[49m\n\u001B[1;32m    800\u001B[0m \u001B[43m    \u001B[49m\u001B[43mchunked\u001B[49m\u001B[38;5;241;43m=\u001B[39;49m\u001B[43mchunked\u001B[49m\u001B[43m,\u001B[49m\n\u001B[1;32m    801\u001B[0m \u001B[43m    \u001B[49m\u001B[43mretries\u001B[49m\u001B[38;5;241;43m=\u001B[39;49m\u001B[43mretries\u001B[49m\u001B[43m,\u001B[49m\n\u001B[1;32m    802\u001B[0m \u001B[43m    \u001B[49m\u001B[43mresponse_conn\u001B[49m\u001B[38;5;241;43m=\u001B[39;49m\u001B[43mresponse_conn\u001B[49m\u001B[43m,\u001B[49m\n\u001B[1;32m    803\u001B[0m \u001B[43m    \u001B[49m\u001B[43mpreload_content\u001B[49m\u001B[38;5;241;43m=\u001B[39;49m\u001B[43mpreload_content\u001B[49m\u001B[43m,\u001B[49m\n\u001B[1;32m    804\u001B[0m \u001B[43m    \u001B[49m\u001B[43mdecode_content\u001B[49m\u001B[38;5;241;43m=\u001B[39;49m\u001B[43mdecode_content\u001B[49m\u001B[43m,\u001B[49m\n\u001B[1;32m    805\u001B[0m \u001B[43m    \u001B[49m\u001B[38;5;241;43m*\u001B[39;49m\u001B[38;5;241;43m*\u001B[39;49m\u001B[43mresponse_kw\u001B[49m\u001B[43m,\u001B[49m\n\u001B[1;32m    806\u001B[0m \u001B[43m\u001B[49m\u001B[43m)\u001B[49m\n\u001B[1;32m    808\u001B[0m \u001B[38;5;66;03m# Everything went great!\u001B[39;00m\n\u001B[1;32m    809\u001B[0m clean_exit \u001B[38;5;241m=\u001B[39m \u001B[38;5;28;01mTrue\u001B[39;00m\n",
      "File \u001B[0;32m~/Code/PycharmProjects/NLU/nli/.venv/lib/python3.9/site-packages/urllib3/connectionpool.py:537\u001B[0m, in \u001B[0;36mHTTPConnectionPool._make_request\u001B[0;34m(self, conn, method, url, body, headers, retries, timeout, chunked, response_conn, preload_content, decode_content, enforce_content_length)\u001B[0m\n\u001B[1;32m    535\u001B[0m \u001B[38;5;66;03m# Receive the response from the server\u001B[39;00m\n\u001B[1;32m    536\u001B[0m \u001B[38;5;28;01mtry\u001B[39;00m:\n\u001B[0;32m--> 537\u001B[0m     response \u001B[38;5;241m=\u001B[39m \u001B[43mconn\u001B[49m\u001B[38;5;241;43m.\u001B[39;49m\u001B[43mgetresponse\u001B[49m\u001B[43m(\u001B[49m\u001B[43m)\u001B[49m\n\u001B[1;32m    538\u001B[0m \u001B[38;5;28;01mexcept\u001B[39;00m (BaseSSLError, \u001B[38;5;167;01mOSError\u001B[39;00m) \u001B[38;5;28;01mas\u001B[39;00m e:\n\u001B[1;32m    539\u001B[0m     \u001B[38;5;28mself\u001B[39m\u001B[38;5;241m.\u001B[39m_raise_timeout(err\u001B[38;5;241m=\u001B[39me, url\u001B[38;5;241m=\u001B[39murl, timeout_value\u001B[38;5;241m=\u001B[39mread_timeout)\n",
      "File \u001B[0;32m~/Code/PycharmProjects/NLU/nli/.venv/lib/python3.9/site-packages/urllib3/connection.py:466\u001B[0m, in \u001B[0;36mHTTPConnection.getresponse\u001B[0;34m(self)\u001B[0m\n\u001B[1;32m    463\u001B[0m \u001B[38;5;28;01mfrom\u001B[39;00m \u001B[38;5;21;01m.\u001B[39;00m\u001B[38;5;21;01mresponse\u001B[39;00m \u001B[38;5;28;01mimport\u001B[39;00m HTTPResponse\n\u001B[1;32m    465\u001B[0m \u001B[38;5;66;03m# Get the response from http.client.HTTPConnection\u001B[39;00m\n\u001B[0;32m--> 466\u001B[0m httplib_response \u001B[38;5;241m=\u001B[39m \u001B[38;5;28;43msuper\u001B[39;49m\u001B[43m(\u001B[49m\u001B[43m)\u001B[49m\u001B[38;5;241;43m.\u001B[39;49m\u001B[43mgetresponse\u001B[49m\u001B[43m(\u001B[49m\u001B[43m)\u001B[49m\n\u001B[1;32m    468\u001B[0m \u001B[38;5;28;01mtry\u001B[39;00m:\n\u001B[1;32m    469\u001B[0m     assert_header_parsing(httplib_response\u001B[38;5;241m.\u001B[39mmsg)\n",
      "File \u001B[0;32m/Library/Frameworks/Python.framework/Versions/3.9/lib/python3.9/http/client.py:1347\u001B[0m, in \u001B[0;36mHTTPConnection.getresponse\u001B[0;34m(self)\u001B[0m\n\u001B[1;32m   1345\u001B[0m \u001B[38;5;28;01mtry\u001B[39;00m:\n\u001B[1;32m   1346\u001B[0m     \u001B[38;5;28;01mtry\u001B[39;00m:\n\u001B[0;32m-> 1347\u001B[0m         \u001B[43mresponse\u001B[49m\u001B[38;5;241;43m.\u001B[39;49m\u001B[43mbegin\u001B[49m\u001B[43m(\u001B[49m\u001B[43m)\u001B[49m\n\u001B[1;32m   1348\u001B[0m     \u001B[38;5;28;01mexcept\u001B[39;00m \u001B[38;5;167;01mConnectionError\u001B[39;00m:\n\u001B[1;32m   1349\u001B[0m         \u001B[38;5;28mself\u001B[39m\u001B[38;5;241m.\u001B[39mclose()\n",
      "File \u001B[0;32m/Library/Frameworks/Python.framework/Versions/3.9/lib/python3.9/http/client.py:307\u001B[0m, in \u001B[0;36mHTTPResponse.begin\u001B[0;34m(self)\u001B[0m\n\u001B[1;32m    305\u001B[0m \u001B[38;5;66;03m# read until we get a non-100 response\u001B[39;00m\n\u001B[1;32m    306\u001B[0m \u001B[38;5;28;01mwhile\u001B[39;00m \u001B[38;5;28;01mTrue\u001B[39;00m:\n\u001B[0;32m--> 307\u001B[0m     version, status, reason \u001B[38;5;241m=\u001B[39m \u001B[38;5;28;43mself\u001B[39;49m\u001B[38;5;241;43m.\u001B[39;49m\u001B[43m_read_status\u001B[49m\u001B[43m(\u001B[49m\u001B[43m)\u001B[49m\n\u001B[1;32m    308\u001B[0m     \u001B[38;5;28;01mif\u001B[39;00m status \u001B[38;5;241m!=\u001B[39m CONTINUE:\n\u001B[1;32m    309\u001B[0m         \u001B[38;5;28;01mbreak\u001B[39;00m\n",
      "File \u001B[0;32m/Library/Frameworks/Python.framework/Versions/3.9/lib/python3.9/http/client.py:268\u001B[0m, in \u001B[0;36mHTTPResponse._read_status\u001B[0;34m(self)\u001B[0m\n\u001B[1;32m    267\u001B[0m \u001B[38;5;28;01mdef\u001B[39;00m \u001B[38;5;21m_read_status\u001B[39m(\u001B[38;5;28mself\u001B[39m):\n\u001B[0;32m--> 268\u001B[0m     line \u001B[38;5;241m=\u001B[39m \u001B[38;5;28mstr\u001B[39m(\u001B[38;5;28;43mself\u001B[39;49m\u001B[38;5;241;43m.\u001B[39;49m\u001B[43mfp\u001B[49m\u001B[38;5;241;43m.\u001B[39;49m\u001B[43mreadline\u001B[49m\u001B[43m(\u001B[49m\u001B[43m_MAXLINE\u001B[49m\u001B[43m \u001B[49m\u001B[38;5;241;43m+\u001B[39;49m\u001B[43m \u001B[49m\u001B[38;5;241;43m1\u001B[39;49m\u001B[43m)\u001B[49m, \u001B[38;5;124m\"\u001B[39m\u001B[38;5;124miso-8859-1\u001B[39m\u001B[38;5;124m\"\u001B[39m)\n\u001B[1;32m    269\u001B[0m     \u001B[38;5;28;01mif\u001B[39;00m \u001B[38;5;28mlen\u001B[39m(line) \u001B[38;5;241m>\u001B[39m _MAXLINE:\n\u001B[1;32m    270\u001B[0m         \u001B[38;5;28;01mraise\u001B[39;00m LineTooLong(\u001B[38;5;124m\"\u001B[39m\u001B[38;5;124mstatus line\u001B[39m\u001B[38;5;124m\"\u001B[39m)\n",
      "File \u001B[0;32m/Library/Frameworks/Python.framework/Versions/3.9/lib/python3.9/socket.py:704\u001B[0m, in \u001B[0;36mSocketIO.readinto\u001B[0;34m(self, b)\u001B[0m\n\u001B[1;32m    702\u001B[0m \u001B[38;5;28;01mwhile\u001B[39;00m \u001B[38;5;28;01mTrue\u001B[39;00m:\n\u001B[1;32m    703\u001B[0m     \u001B[38;5;28;01mtry\u001B[39;00m:\n\u001B[0;32m--> 704\u001B[0m         \u001B[38;5;28;01mreturn\u001B[39;00m \u001B[38;5;28;43mself\u001B[39;49m\u001B[38;5;241;43m.\u001B[39;49m\u001B[43m_sock\u001B[49m\u001B[38;5;241;43m.\u001B[39;49m\u001B[43mrecv_into\u001B[49m\u001B[43m(\u001B[49m\u001B[43mb\u001B[49m\u001B[43m)\u001B[49m\n\u001B[1;32m    705\u001B[0m     \u001B[38;5;28;01mexcept\u001B[39;00m timeout:\n\u001B[1;32m    706\u001B[0m         \u001B[38;5;28mself\u001B[39m\u001B[38;5;241m.\u001B[39m_timeout_occurred \u001B[38;5;241m=\u001B[39m \u001B[38;5;28;01mTrue\u001B[39;00m\n",
      "File \u001B[0;32m/Library/Frameworks/Python.framework/Versions/3.9/lib/python3.9/ssl.py:1241\u001B[0m, in \u001B[0;36mSSLSocket.recv_into\u001B[0;34m(self, buffer, nbytes, flags)\u001B[0m\n\u001B[1;32m   1237\u001B[0m     \u001B[38;5;28;01mif\u001B[39;00m flags \u001B[38;5;241m!=\u001B[39m \u001B[38;5;241m0\u001B[39m:\n\u001B[1;32m   1238\u001B[0m         \u001B[38;5;28;01mraise\u001B[39;00m \u001B[38;5;167;01mValueError\u001B[39;00m(\n\u001B[1;32m   1239\u001B[0m           \u001B[38;5;124m\"\u001B[39m\u001B[38;5;124mnon-zero flags not allowed in calls to recv_into() on \u001B[39m\u001B[38;5;132;01m%s\u001B[39;00m\u001B[38;5;124m\"\u001B[39m \u001B[38;5;241m%\u001B[39m\n\u001B[1;32m   1240\u001B[0m           \u001B[38;5;28mself\u001B[39m\u001B[38;5;241m.\u001B[39m\u001B[38;5;18m__class__\u001B[39m)\n\u001B[0;32m-> 1241\u001B[0m     \u001B[38;5;28;01mreturn\u001B[39;00m \u001B[38;5;28;43mself\u001B[39;49m\u001B[38;5;241;43m.\u001B[39;49m\u001B[43mread\u001B[49m\u001B[43m(\u001B[49m\u001B[43mnbytes\u001B[49m\u001B[43m,\u001B[49m\u001B[43m \u001B[49m\u001B[43mbuffer\u001B[49m\u001B[43m)\u001B[49m\n\u001B[1;32m   1242\u001B[0m \u001B[38;5;28;01melse\u001B[39;00m:\n\u001B[1;32m   1243\u001B[0m     \u001B[38;5;28;01mreturn\u001B[39;00m \u001B[38;5;28msuper\u001B[39m()\u001B[38;5;241m.\u001B[39mrecv_into(buffer, nbytes, flags)\n",
      "File \u001B[0;32m/Library/Frameworks/Python.framework/Versions/3.9/lib/python3.9/ssl.py:1099\u001B[0m, in \u001B[0;36mSSLSocket.read\u001B[0;34m(self, len, buffer)\u001B[0m\n\u001B[1;32m   1097\u001B[0m \u001B[38;5;28;01mtry\u001B[39;00m:\n\u001B[1;32m   1098\u001B[0m     \u001B[38;5;28;01mif\u001B[39;00m buffer \u001B[38;5;129;01mis\u001B[39;00m \u001B[38;5;129;01mnot\u001B[39;00m \u001B[38;5;28;01mNone\u001B[39;00m:\n\u001B[0;32m-> 1099\u001B[0m         \u001B[38;5;28;01mreturn\u001B[39;00m \u001B[38;5;28;43mself\u001B[39;49m\u001B[38;5;241;43m.\u001B[39;49m\u001B[43m_sslobj\u001B[49m\u001B[38;5;241;43m.\u001B[39;49m\u001B[43mread\u001B[49m\u001B[43m(\u001B[49m\u001B[38;5;28;43mlen\u001B[39;49m\u001B[43m,\u001B[49m\u001B[43m \u001B[49m\u001B[43mbuffer\u001B[49m\u001B[43m)\u001B[49m\n\u001B[1;32m   1100\u001B[0m     \u001B[38;5;28;01melse\u001B[39;00m:\n\u001B[1;32m   1101\u001B[0m         \u001B[38;5;28;01mreturn\u001B[39;00m \u001B[38;5;28mself\u001B[39m\u001B[38;5;241m.\u001B[39m_sslobj\u001B[38;5;241m.\u001B[39mread(\u001B[38;5;28mlen\u001B[39m)\n",
      "\u001B[0;31mKeyboardInterrupt\u001B[0m: "
     ]
    }
   ],
   "source": [
    "start_index, end_index = 0, train.shape[0]\n",
    "\n",
    "# Generate predictions and thoughts for train set\n",
    "train['response_json'].iloc[start_index:end_index] = train.iloc[start_index:end_index].apply(lambda x: predict_label(\n",
    "    id=x['id'],\n",
    "    sys=system_prompt,\n",
    "    premise=x['premise'],\n",
    "    hypothesis=x['hypothesis'],\n",
    "    true_label=x['label'],\n",
    "    llm=Mistral(API_KEY),\n",
    "    model_name='open-mistral-7b',\n",
    "    json_format=json_schema,\n",
    "    json_filepath=f'{root}data/json_data/thoughts_{start_index}_{end_index}.json'\n",
    "), axis=1)"
   ],
   "metadata": {
    "collapsed": false,
    "ExecuteTime": {
     "end_time": "2024-04-29T01:28:44.915742Z",
     "start_time": "2024-04-29T01:28:22.085092Z"
    }
   },
   "execution_count": 14
  },
  {
   "cell_type": "code",
   "outputs": [],
   "source": [
    "start_index, end_index = 0, dev.shape[0]\n",
    "\n",
    "# Generate predictions and thoughts for dev set\n",
    "dev['response_json'].iloc[start_index:end_index] = dev.iloc[start_index:end_index].apply(lambda x: predict_label(\n",
    "    id=x['id'],\n",
    "    sys=system_prompt,\n",
    "    premise=x['premise'],\n",
    "    hypothesis=x['hypothesis'],\n",
    "    true_label=x['label'],\n",
    "    llm=Mistral(API_KEY),\n",
    "    model_name='open-mistral-7b',\n",
    "    json_format=json_schema,\n",
    "    json_filepath=f'{root}data/json_data_dev/thoughts_{start_index}_{end_index}.json'\n",
    "), axis=1)"
   ],
   "metadata": {
    "collapsed": false
   }
  },
  {
   "cell_type": "code",
   "execution_count": 4,
   "metadata": {
    "id": "IgeONZwZqkp8",
    "executionInfo": {
     "status": "ok",
     "timestamp": 1714338145114,
     "user_tz": -60,
     "elapsed": 12679,
     "user": {
      "displayName": "Jordan Tran",
      "userId": "05375146362003686014"
     }
    },
    "ExecuteTime": {
     "end_time": "2024-04-29T01:46:20.811700Z",
     "start_time": "2024-04-29T01:46:18.098071Z"
    }
   },
   "outputs": [],
   "source": [
    "# Read JSON data into dataframes and concatenate\n",
    "import glob\n",
    "train_paths = sorted(glob.glob(root + 'data/json_data/*.json'))\n",
    "dev_paths = sorted(glob.glob(root + 'data/json_data_dev/*.json'))\n",
    "\n",
    "def read_data(paths: list[str]):\n",
    "  dfs = []\n",
    "  dfs_filtered = []\n",
    "  for file in paths:\n",
    "    df = pd.read_json(file, lines=True)\n",
    "    df['thoughts_len'] = df['thoughts'].apply(len)\n",
    "    dfs.append(df)\n",
    "    df = df[df['correct']]\n",
    "    dfs_filtered.append(df)\n",
    "\n",
    "  return pd.concat(dfs), pd.concat(dfs_filtered)\n",
    "\n",
    "full_data, filtered_data = read_data(train_paths)\n",
    "full_data_dev, filtered_data_dev = read_data(dev_paths)"
   ]
  },
  {
   "cell_type": "code",
   "execution_count": 5,
   "metadata": {
    "colab": {
     "base_uri": "https://localhost:8080/",
     "height": 719
    },
    "id": "UTL0oPpzjMdW",
    "outputId": "8b035ac1-47aa-46ca-9836-88357fe9d9b2",
    "executionInfo": {
     "status": "ok",
     "timestamp": 1714338145145,
     "user_tz": -60,
     "elapsed": 48,
     "user": {
      "displayName": "Jordan Tran",
      "userId": "05375146362003686014"
     }
    },
    "ExecuteTime": {
     "end_time": "2024-04-29T01:46:22.045409Z",
     "start_time": "2024-04-29T01:46:21.983708Z"
    }
   },
   "outputs": [
    {
     "name": "stdout",
     "output_type": "stream",
     "text": [
      "true_label\n",
      "1    13449\n",
      "0    12687\n",
      "Name: count, dtype: int64 prediction\n",
      "0    16850\n",
      "1     9286\n",
      "Name: count, dtype: int64\n"
     ]
    },
    {
     "data": {
      "text/plain": "        id                                            premise  \\\n0        0  However, Fort Charles was rebuilt as a militar...   \n1        1  Buchanan's  The Democrats and Republicans have...   \n2        2  In order to review an acquisition that is usin...   \n3        3  Three young people sit outside and engage with...   \n4        4  The lucrative tin mines of Kuala Lumpur in the...   \n..     ...                                                ...   \n898  26939  Information in agencies' plans and reports pro...   \n899  26940  He is the Mr. Magoo of scientific theory, geni...   \n900  26941  Over the past 25 years, the Postal Service has...   \n901  26942  Whoever first stepped ashore on Madeira discov...   \n902  26943  But I admit that when a drum and bugle corps m...   \n\n                                            hypothesis  \\\n0    Fort Charles was rebuilt as an amusement park ...   \n1                   THe parties will never be similar.   \n2    The auditor only reviews the acquisition itsel...   \n3             There is a tin can and string telephone.   \n4    The Chinese labor was seen as less costly and ...   \n..                                                 ...   \n898  Thanks to agencies' plans and reports, over $3...   \n899            He understands everything he can't see.   \n900  Classifying mail is important to the function ...   \n901   The British discovered the Canary Islands first.   \n902                         I hate the Star Wars song.   \n\n                                              thoughts  prediction  \\\n0    step 1: in the premise, fort charles is descri...           0   \n1    step 1: in the premise, buchanan expresses the...           0   \n2    step 1: in the premise, the context is about a...           0   \n3    step 1: in the premise, three young people are...           0   \n4    step 1: in the premise, it is mentioned that c...           1   \n..                                                 ...         ...   \n898  step 1: the premise indicates that information...           0   \n899  step 1: in the premise, daniel mendelsohn desc...           0   \n900  step 1: in the premise, it is mentioned that t...           1   \n901  step 1: in the premise, it is stated that the ...           0   \n902  step 1: the premise describes a personal emoti...           0   \n\n     true_label  correct                                       chat_history  \\\n0             0     True  [{'role': 'system', 'content': '[INST] You are...   \n1             0     True  [{'role': 'system', 'content': '[INST] You are...   \n2             0     True  [{'role': 'system', 'content': '[INST] You are...   \n3             0     True  [{'role': 'system', 'content': '[INST] You are...   \n4             1     True  [{'role': 'system', 'content': '[INST] You are...   \n..          ...      ...                                                ...   \n898           0     True  [{'role': 'system', 'content': '[INST] You are...   \n899           0     True  [{'role': 'system', 'content': '[INST] You are...   \n900           1     True  [{'role': 'system', 'content': '[INST] You are...   \n901           0     True  [{'role': 'system', 'content': '[INST] You are...   \n902           0     True  [{'role': 'system', 'content': '[INST] You are...   \n\n     reprompt_counts  thoughts_len  \n0                  0           716  \n1                  0          1014  \n2                  0           870  \n3                  0           576  \n4                  0          1126  \n..               ...           ...  \n898                0          1552  \n899                0          1083  \n900                0           831  \n901                0           809  \n902                0           502  \n\n[20245 rows x 10 columns]",
      "text/html": "<div>\n<style scoped>\n    .dataframe tbody tr th:only-of-type {\n        vertical-align: middle;\n    }\n\n    .dataframe tbody tr th {\n        vertical-align: top;\n    }\n\n    .dataframe thead th {\n        text-align: right;\n    }\n</style>\n<table border=\"1\" class=\"dataframe\">\n  <thead>\n    <tr style=\"text-align: right;\">\n      <th></th>\n      <th>id</th>\n      <th>premise</th>\n      <th>hypothesis</th>\n      <th>thoughts</th>\n      <th>prediction</th>\n      <th>true_label</th>\n      <th>correct</th>\n      <th>chat_history</th>\n      <th>reprompt_counts</th>\n      <th>thoughts_len</th>\n    </tr>\n  </thead>\n  <tbody>\n    <tr>\n      <th>0</th>\n      <td>0</td>\n      <td>However, Fort Charles was rebuilt as a militar...</td>\n      <td>Fort Charles was rebuilt as an amusement park ...</td>\n      <td>step 1: in the premise, fort charles is descri...</td>\n      <td>0</td>\n      <td>0</td>\n      <td>True</td>\n      <td>[{'role': 'system', 'content': '[INST] You are...</td>\n      <td>0</td>\n      <td>716</td>\n    </tr>\n    <tr>\n      <th>1</th>\n      <td>1</td>\n      <td>Buchanan's  The Democrats and Republicans have...</td>\n      <td>THe parties will never be similar.</td>\n      <td>step 1: in the premise, buchanan expresses the...</td>\n      <td>0</td>\n      <td>0</td>\n      <td>True</td>\n      <td>[{'role': 'system', 'content': '[INST] You are...</td>\n      <td>0</td>\n      <td>1014</td>\n    </tr>\n    <tr>\n      <th>2</th>\n      <td>2</td>\n      <td>In order to review an acquisition that is usin...</td>\n      <td>The auditor only reviews the acquisition itsel...</td>\n      <td>step 1: in the premise, the context is about a...</td>\n      <td>0</td>\n      <td>0</td>\n      <td>True</td>\n      <td>[{'role': 'system', 'content': '[INST] You are...</td>\n      <td>0</td>\n      <td>870</td>\n    </tr>\n    <tr>\n      <th>3</th>\n      <td>3</td>\n      <td>Three young people sit outside and engage with...</td>\n      <td>There is a tin can and string telephone.</td>\n      <td>step 1: in the premise, three young people are...</td>\n      <td>0</td>\n      <td>0</td>\n      <td>True</td>\n      <td>[{'role': 'system', 'content': '[INST] You are...</td>\n      <td>0</td>\n      <td>576</td>\n    </tr>\n    <tr>\n      <th>4</th>\n      <td>4</td>\n      <td>The lucrative tin mines of Kuala Lumpur in the...</td>\n      <td>The Chinese labor was seen as less costly and ...</td>\n      <td>step 1: in the premise, it is mentioned that c...</td>\n      <td>1</td>\n      <td>1</td>\n      <td>True</td>\n      <td>[{'role': 'system', 'content': '[INST] You are...</td>\n      <td>0</td>\n      <td>1126</td>\n    </tr>\n    <tr>\n      <th>...</th>\n      <td>...</td>\n      <td>...</td>\n      <td>...</td>\n      <td>...</td>\n      <td>...</td>\n      <td>...</td>\n      <td>...</td>\n      <td>...</td>\n      <td>...</td>\n      <td>...</td>\n    </tr>\n    <tr>\n      <th>898</th>\n      <td>26939</td>\n      <td>Information in agencies' plans and reports pro...</td>\n      <td>Thanks to agencies' plans and reports, over $3...</td>\n      <td>step 1: the premise indicates that information...</td>\n      <td>0</td>\n      <td>0</td>\n      <td>True</td>\n      <td>[{'role': 'system', 'content': '[INST] You are...</td>\n      <td>0</td>\n      <td>1552</td>\n    </tr>\n    <tr>\n      <th>899</th>\n      <td>26940</td>\n      <td>He is the Mr. Magoo of scientific theory, geni...</td>\n      <td>He understands everything he can't see.</td>\n      <td>step 1: in the premise, daniel mendelsohn desc...</td>\n      <td>0</td>\n      <td>0</td>\n      <td>True</td>\n      <td>[{'role': 'system', 'content': '[INST] You are...</td>\n      <td>0</td>\n      <td>1083</td>\n    </tr>\n    <tr>\n      <th>900</th>\n      <td>26941</td>\n      <td>Over the past 25 years, the Postal Service has...</td>\n      <td>Classifying mail is important to the function ...</td>\n      <td>step 1: in the premise, it is mentioned that t...</td>\n      <td>1</td>\n      <td>1</td>\n      <td>True</td>\n      <td>[{'role': 'system', 'content': '[INST] You are...</td>\n      <td>0</td>\n      <td>831</td>\n    </tr>\n    <tr>\n      <th>901</th>\n      <td>26942</td>\n      <td>Whoever first stepped ashore on Madeira discov...</td>\n      <td>The British discovered the Canary Islands first.</td>\n      <td>step 1: in the premise, it is stated that the ...</td>\n      <td>0</td>\n      <td>0</td>\n      <td>True</td>\n      <td>[{'role': 'system', 'content': '[INST] You are...</td>\n      <td>0</td>\n      <td>809</td>\n    </tr>\n    <tr>\n      <th>902</th>\n      <td>26943</td>\n      <td>But I admit that when a drum and bugle corps m...</td>\n      <td>I hate the Star Wars song.</td>\n      <td>step 1: the premise describes a personal emoti...</td>\n      <td>0</td>\n      <td>0</td>\n      <td>True</td>\n      <td>[{'role': 'system', 'content': '[INST] You are...</td>\n      <td>0</td>\n      <td>502</td>\n    </tr>\n  </tbody>\n</table>\n<p>20245 rows × 10 columns</p>\n</div>"
     },
     "execution_count": 5,
     "metadata": {},
     "output_type": "execute_result"
    }
   ],
   "source": [
    "# Analyse skew of data\n",
    "print(full_data['true_label'].value_counts(), full_data['prediction'].value_counts())\n",
    "filtered_data"
   ]
  },
  {
   "cell_type": "code",
   "execution_count": 17,
   "metadata": {
    "colab": {
     "base_uri": "https://localhost:8080/"
    },
    "id": "bbzh-LuldxN6",
    "outputId": "e4851900-3768-4f26-e417-62d7c1711408",
    "executionInfo": {
     "status": "ok",
     "timestamp": 1714338152113,
     "user_tz": -60,
     "elapsed": 359,
     "user": {
      "displayName": "Jordan Tran",
      "userId": "05375146362003686014"
     }
    },
    "ExecuteTime": {
     "end_time": "2024-04-29T01:58:40.425167Z",
     "start_time": "2024-04-29T01:58:39.927950Z"
    }
   },
   "outputs": [],
   "source": [
    "# Evaluate metrics of augmented predictions\n",
    "full_data.drop_duplicates(subset='id', inplace=True)\n",
    "filtered_data.drop_duplicates(subset='id', inplace=True)\n",
    "\n",
    "def evaluate_metrics(df):\n",
    "    true_positive = df[(df['correct'] == True) & (df['true_label'] == 1)].shape[0]\n",
    "    true_negative = df[(df['correct'] == True) & (df['true_label'] == 0)].shape[0]\n",
    "    false_positive = df[(df['correct'] == False) & (df['true_label'] == 0)].shape[0]\n",
    "    false_negative = df[(df['correct'] == False) & (df['true_label'] == 1)].shape[0]\n",
    "\n",
    "    precision = true_positive / (true_positive + false_positive)\n",
    "    recall = true_positive / (true_positive + false_negative)\n",
    "    accuracy = (true_positive + true_negative) / df.shape[0]\n",
    "    f1 = 2 * (precision * recall) / (precision + recall)\n",
    "\n",
    "    return {'precision': precision, 'recall': recall, 'accuracy': accuracy, 'f1': f1}\n",
    "\n",
    "evaluate_metrics(full_data)"
   ]
  },
  {
   "cell_type": "code",
   "execution_count": null,
   "metadata": {
    "colab": {
     "base_uri": "https://localhost:8080/"
    },
    "id": "4VVfSaU3e7rK",
    "outputId": "0f601f90-3a75-46ee-b0a2-84ce82b1062a",
    "executionInfo": {
     "status": "ok",
     "timestamp": 1714338152389,
     "user_tz": -60,
     "elapsed": 278,
     "user": {
      "displayName": "Jordan Tran",
      "userId": "05375146362003686014"
     }
    }
   },
   "outputs": [],
   "source": [
    "from pprint import pprint\n",
    "def analyse_thought_len(df):\n",
    "  print('CHARACTER LENGTH')\n",
    "  # Analyse distribution of thought-explanation length, and its effect on predictions\n",
    "  print('\\n*********\\n')\n",
    "\n",
    "  print('ALL')\n",
    "  pprint(evaluate_metrics(df))\n",
    "\n",
    "  print('\\n*********\\n')\n",
    "\n",
    "  print('< 350')\n",
    "  pprint(evaluate_metrics(df[(df['thoughts_len'] < 350)]))\n",
    "  print(df[(df['thoughts_len'] < 350)].shape)\n",
    "\n",
    "  print('\\n*********\\n')\n",
    "\n",
    "  print('> 1000')\n",
    "  pprint(evaluate_metrics(df[(df['thoughts_len'] > 1000)]))\n",
    "  print(df[(df['thoughts_len'] > 1000)].shape)\n",
    "\n",
    "  print('\\n*********\\n')\n",
    "\n",
    "  print('> 1100')\n",
    "  pprint(evaluate_metrics(df[(df['thoughts_len'] > 1000)]))\n",
    "  print(df[(df['thoughts_len'] > 1000)].shape)\n",
    "\n",
    "  print('\\n*********\\n')\n",
    "\n",
    "  print('350 < x < 1000')\n",
    "  pprint(evaluate_metrics(df[(df['thoughts_len'] > 300) & (df['thoughts_len'] < 1000)]))\n",
    "\n",
    "  print('\\n*********\\n')\n",
    "\n",
    "  print('1000 < x < 1100')\n",
    "  pprint(evaluate_metrics(df[(df['thoughts_len'] > 300) & (df['thoughts_len'] < 1000)]))\n",
    "\n",
    "analyse_thought_len(full_data)\n",
    "analyse_thought_len(full_data_dev)"
   ]
  },
  {
   "cell_type": "code",
   "execution_count": 6,
   "metadata": {
    "id": "lTgk6P2a47Q4",
    "executionInfo": {
     "status": "ok",
     "timestamp": 1714338155144,
     "user_tz": -60,
     "elapsed": 245,
     "user": {
      "displayName": "Jordan Tran",
      "userId": "05375146362003686014"
     }
    },
    "ExecuteTime": {
     "end_time": "2024-04-29T01:55:33.957733Z",
     "start_time": "2024-04-29T01:55:33.792740Z"
    }
   },
   "outputs": [],
   "source": [
    "def clean_shave(df):\n",
    "  # Clean thoughts; expand lists to string\n",
    "  df['thoughts'] = df['thoughts'].apply(lambda x: '. '.join(x) if isinstance(x, list) else x)\n",
    "  # Shave thoughts exceeding character range\n",
    "  return df[(df['thoughts_len'] > 300) & (df['thoughts_len'] < 1200)]\n",
    "\n",
    "filtered_train = clean_shave(filtered_data)\n",
    "filtered_dev = clean_shave(filtered_data_dev)"
   ]
  },
  {
   "cell_type": "code",
   "execution_count": 38,
   "metadata": {
    "id": "XGSPMq_uiKwC",
    "colab": {
     "base_uri": "https://localhost:8080/",
     "height": 1000
    },
    "executionInfo": {
     "status": "ok",
     "timestamp": 1714338157946,
     "user_tz": -60,
     "elapsed": 2537,
     "user": {
      "displayName": "Jordan Tran",
      "userId": "05375146362003686014"
     }
    },
    "outputId": "f3f6ae7d-969a-4cc4-8c44-c0c8835c4c89",
    "ExecuteTime": {
     "end_time": "2024-04-29T02:33:33.556874Z",
     "start_time": "2024-04-29T02:33:30.922663Z"
    }
   },
   "outputs": [],
   "source": [
    "# Retrieve the compliment of the full data against the filtered data \n",
    "train_ids = pd.DataFrame({'id': range(0, train.shape[0])})\n",
    "dropped_train = train[~train['id'].isin(filtered_data['id'])]\n",
    "\n",
    "dev_ids = pd.DataFrame({'id': range(0, dev.shape[0])})\n",
    "dropped_dev = dev[~dev['id'].isin(filtered_data_dev['id'])]\n",
    "\n",
    "# Persist filtered data for further-processing\n",
    "filtered_train.to_csv(root + 'data/training_data/filtered/train_keep.csv')\n",
    "filtered_dev.to_csv(root + 'data/training_data/filtered/dev_keep.csv')\n",
    "dropped_train.to_csv(root + 'data/training_data/filtered/train_drop.csv')\n",
    "dropped_dev.to_csv(root + 'data/training_data/filtered/dev_drop.csv')"
   ]
  },
  {
   "cell_type": "code",
   "source": [
    "filtered_train"
   ],
   "metadata": {
    "id": "EHg8R80ZEcRp",
    "ExecuteTime": {
     "end_time": "2024-04-29T01:27:44.083448Z",
     "start_time": "2024-04-29T01:27:43.767405Z"
    }
   },
   "execution_count": 10,
   "outputs": [
    {
     "ename": "NameError",
     "evalue": "name 'filtered_train' is not defined",
     "output_type": "error",
     "traceback": [
      "\u001B[0;31m---------------------------------------------------------------------------\u001B[0m",
      "\u001B[0;31mNameError\u001B[0m                                 Traceback (most recent call last)",
      "Cell \u001B[0;32mIn[10], line 1\u001B[0m\n\u001B[0;32m----> 1\u001B[0m \u001B[43mfiltered_train\u001B[49m\n",
      "\u001B[0;31mNameError\u001B[0m: name 'filtered_train' is not defined"
     ]
    }
   ]
  },
  {
   "cell_type": "code",
   "outputs": [],
   "source": [
    "filtered"
   ],
   "metadata": {
    "collapsed": false
   }
  },
  {
   "cell_type": "code",
   "outputs": [],
   "source": [
    "# Format data for fine-tuning\n",
    "import json\n",
    "\n",
    "def extract_prompt(premise, hypothesis):\n",
    "  input = f\"Premise: '{premise}' Hypothesis: '{hypothesis}' Label:\"\n",
    "  prompt = \"\"\"You are an expert in natural language reasoning and inference. Your task is to analyze pairs of sentences and determine if the second sentence (hypothesis) can be logically inferred from the first sentence (premise). For each example, I will provide the premise and hypothesis. Your response should be in the following JSON format: {\"thought_process\": \"Step 1. <Identify key information and relationships in the premise, considering logical connections, commonsense understanding, and factual consistency>. Step 2. <Analyze how the hypothesis relates to or contradicts the premise based on the information identified in Step 1. Evaluate if the hypothesis can be reasonably inferred from the premise>. Step 3. <Explain your final reasoning and conclusion on whether the hypothesis is entailed by the premise or not>\", \"label\": \"<0 for no entailment, 1 for entailment>\"} Please provide a clear multi-step reasoning chain explaining how you arrived at your final answer, breaking it down into logical components. Ground your response in the given information, logical principles and common-sense reasoning.\"\"\"\n",
    "  prompt_template = f\"[INST] {prompt} \\n{input} \\n[/INST]\"\n",
    "\n",
    "  return prompt_template\n",
    "\n",
    "def extract_completion(thoughts, prediction):\n",
    "  completion_json = {\n",
    "      \"thoughts\": thoughts,\n",
    "      \"prediction\": prediction\n",
    "  }\n",
    "  return json.dumps(completion_json)\n",
    "\n",
    "def format_ft_data(df):\n",
    "  df['prompt'] = df.apply(lambda x : extract_prompt(x['premise'], x['hypothesis']), axis=1)\n",
    "  df['completion'] = df.apply(lambda x : extract_completion(x['thoughts'], x['prediction']), axis=1)\n",
    "  res = df.apply(lambda x : f\"<s>{x['prompt']} \\n\\n{x['completion']}</s>\", axis=1)\n",
    "  return res\n",
    "\n",
    "ft_train = format_ft_data(ft_train)\n",
    "ft_dev = format_ft_data(ft_dev)"
   ],
   "metadata": {
    "collapsed": false
   }
  }
 ],
 "metadata": {
  "colab": {
   "machine_shape": "hm",
   "provenance": [],
   "gpuType": "L4"
  },
  "kernelspec": {
   "name": "python3",
   "language": "python",
   "display_name": "Python 3 (ipykernel)"
  },
  "language_info": {
   "name": "python"
  },
  "accelerator": "GPU"
 },
 "nbformat": 4,
 "nbformat_minor": 0
}
